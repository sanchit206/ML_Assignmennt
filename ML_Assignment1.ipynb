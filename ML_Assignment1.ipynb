{
  "nbformat": 4,
  "nbformat_minor": 0,
  "metadata": {
    "colab": {
      "provenance": [],
      "authorship_tag": "ABX9TyOh3smjVveAHqOrVYQyIt2Z",
      "include_colab_link": true
    },
    "kernelspec": {
      "name": "python3",
      "display_name": "Python 3"
    },
    "language_info": {
      "name": "python"
    }
  },
  "cells": [
    {
      "cell_type": "markdown",
      "metadata": {
        "id": "view-in-github",
        "colab_type": "text"
      },
      "source": [
        "<a href=\"https://colab.research.google.com/github/sanchit206/ML_Assignmennt/blob/main/ML_Assignment1.ipynb\" target=\"_parent\"><img src=\"https://colab.research.google.com/assets/colab-badge.svg\" alt=\"Open In Colab\"/></a>"
      ]
    },
    {
      "cell_type": "code",
      "execution_count": null,
      "metadata": {
        "id": "yonvZjwRWocQ"
      },
      "outputs": [],
      "source": []
    },
    {
      "cell_type": "markdown",
      "source": [
        "1.What does one mean by the term &quot;machine learning&quot;?"
      ],
      "metadata": {
        "id": "uVWdF3WiW5cG"
      }
    },
    {
      "cell_type": "markdown",
      "source": [
        "Machine learning is a field of artificial intelligence (AI) that focuses on developing algorithms and systems that enable computers to learn and improve from experience without being explicitly programmed. It involves the creation of models that can learn patterns and make predictions or decisions based on data."
      ],
      "metadata": {
        "id": "1D5gy_nTXFtT"
      }
    },
    {
      "cell_type": "markdown",
      "source": [
        "2.Can you think of 4 distinct types of issues where it shines?"
      ],
      "metadata": {
        "id": "GT5tL0YtXe-S"
      }
    },
    {
      "cell_type": "markdown",
      "source": [
        "Supervised Learning: This involves training a model on a labeled dataset, where the algorithm learns from input-output pairs to make predictions or decisions.\n",
        "\n",
        "Unsupervised Learning: Here, the model is given input data without explicit instructions on what to do with it. The algorithm tries to find patterns or structures in the data by itself.\n",
        "\n",
        "Reinforcement Learning: This type of learning involves an agent that learns to make decisions by interacting with an environment. It learns from feedback in the form of rewards or penalties."
      ],
      "metadata": {
        "id": "x4-LC5V9X0KE"
      }
    },
    {
      "cell_type": "markdown",
      "source": [
        "3.What is a labeled training set, and how does it work?"
      ],
      "metadata": {
        "id": "V3sjdVi2X671"
      }
    },
    {
      "cell_type": "markdown",
      "source": [
        "A labeled training set pairs input data with corresponding correct outputs or labels. It's used to teach a machine learning model by showing it examples with known answers, enabling it to learn patterns and make predictions.\n",
        "\n",
        "\n",
        "\n",
        "\n",
        "\n"
      ],
      "metadata": {
        "id": "1sHietyVYXir"
      }
    },
    {
      "cell_type": "markdown",
      "source": [
        "4.What are the two most important tasks that are supervised?"
      ],
      "metadata": {
        "id": "N0a3fqpAYuYp"
      }
    },
    {
      "cell_type": "markdown",
      "source": [
        "The two most important supervised learning tasks are:\n",
        "\n",
        "Classification: Assigning input data to predefined categories or classes. For example, identifying whether an email is spam or not, recognizing handwritten digits, or classifying images of animals.\n",
        "\n",
        "Regression: Predicting a continuous numerical value or outcome based on input features. For instance, predicting house prices based on features like square footage, number of bedrooms, and location, or forecasting stock prices based on historical data."
      ],
      "metadata": {
        "id": "hBEpV1mUYzZA"
      }
    },
    {
      "cell_type": "markdown",
      "source": [],
      "metadata": {
        "id": "lQPRz2fYYGSR"
      }
    },
    {
      "cell_type": "markdown",
      "source": [
        "5.Can you think of four examples of unsupervised tasks?"
      ],
      "metadata": {
        "id": "LGi2-MrCY6YH"
      }
    },
    {
      "cell_type": "markdown",
      "source": [
        "Clustering: Grouping similar data points together based on their inherent patterns or similarities without predefined categories. For instance, clustering customers based on their purchasing behavior for market segmentation or grouping news articles by topic."
      ],
      "metadata": {
        "id": "zM4-ki-cY9it"
      }
    },
    {
      "cell_type": "markdown",
      "source": [
        "6.State the machine learning model that would be best to make a robot walk through various\n",
        "unfamiliar terrains?"
      ],
      "metadata": {
        "id": "xlgfyBQjZFS6"
      }
    },
    {
      "cell_type": "markdown",
      "source": [
        "For enabling a robot to walk through unfamiliar terrains, a machine learning model that could be well-suited is a Reinforcement Learning (RL) model, specifically within the domain of robotics, known as Deep Reinforcement Learning (DRL)."
      ],
      "metadata": {
        "id": "EZjKqyKhZNU7"
      }
    },
    {
      "cell_type": "markdown",
      "source": [
        "7.Which algorithm will you use to divide your customers into different groups?"
      ],
      "metadata": {
        "id": "DGrloAnXZWfY"
      }
    },
    {
      "cell_type": "markdown",
      "source": [
        "K-means clustering is an unsupervised learning algorithm used to partition a dataset into K distinct, non-overlapping clusters. It works by iteratively assigning each data point to the nearest cluster centroid and then recalculating the centroids based on the mean of the points assigned to each cluster."
      ],
      "metadata": {
        "id": "C3stuwjaZbJh"
      }
    },
    {
      "cell_type": "markdown",
      "source": [
        "8.Will you consider the problem of spam detection to be a supervised or unsupervised learning problem?"
      ],
      "metadata": {
        "id": "G49S4lCBZlGT"
      }
    },
    {
      "cell_type": "markdown",
      "source": [
        "Spam detection is typically considered a supervised learning problem. In this scenario, the algorithm learns from labeled data, where each email is labeled as either \"spam\" or \"not spam\" (ham). The model is trained using this labeled dataset, where the features (words, phrases, sender information, etc.) of each email are used to predict or classify whether an incoming email is spam or not."
      ],
      "metadata": {
        "id": "7r9g1uscZ5mr"
      }
    },
    {
      "cell_type": "markdown",
      "source": [
        "9.What is the concept of an online learning system?"
      ],
      "metadata": {
        "id": "rBXxNNF3aNGu"
      }
    },
    {
      "cell_type": "markdown",
      "source": [
        "An online learning system, in the context of machine learning, refers to a system that continuously learns and adapts from incoming data in a sequential manner, updating its model as new data becomes available. It's also known as incremental learning or streaming learning."
      ],
      "metadata": {
        "id": "2kVsgsUhaQhK"
      }
    },
    {
      "cell_type": "markdown",
      "source": [
        "10.What is out-of-core learning, and how does it differ from core learning?"
      ],
      "metadata": {
        "id": "li-SHLD8aiB7"
      }
    },
    {
      "cell_type": "markdown",
      "source": [
        "The main difference lies in how data is handled and processed: in-core learning assumes that the entire dataset fits into memory, while out-of-core learning handles datasets that exceed available memory by processing them in smaller segments, loading and unloading portions from disk as needed during computation. This approach allows for scalability and processing of very large datasets that wouldn't otherwise fit into memory."
      ],
      "metadata": {
        "id": "4wUdZDErauGW"
      }
    },
    {
      "cell_type": "markdown",
      "source": [
        "11.What kind of learning algorithm makes predictions using a similarity measure?"
      ],
      "metadata": {
        "id": "kCV9ezoDavAg"
      }
    },
    {
      "cell_type": "markdown",
      "source": [
        "An algorithm that makes predictions using a similarity measure typically falls under the category of Instance-Based Learning or Instance-Based Methods."
      ],
      "metadata": {
        "id": "gayGe1USayxy"
      }
    },
    {
      "cell_type": "markdown",
      "source": [
        "12.What&#39;s the difference between a model parameter and a hyperparameter in a learning algorithm?"
      ],
      "metadata": {
        "id": "ZWcJt1-7a_Ed"
      }
    },
    {
      "cell_type": "markdown",
      "source": [
        "The main differences lie in their roles during the learning process: model parameters are learned from the training data and directly affect the model's output, while hyperparameters are set beforehand and guide the learning process itself, influencing how the model is trained and how it learns the parameters. Adjusting hyperparameters can impact the performance and behavior of the learning algorithm and, consequently, the resulting model.\n",
        "\n",
        "\n",
        "\n",
        "\n",
        "\n"
      ],
      "metadata": {
        "id": "lPOJnlTva_iY"
      }
    },
    {
      "cell_type": "markdown",
      "source": [
        "13.What are the criteria that model-based learning algorithms look for? What is the most popular\n",
        "method they use to achieve success? What method do they use to make predictions?"
      ],
      "metadata": {
        "id": "0V44xOSabXgy"
      }
    },
    {
      "cell_type": "markdown",
      "source": [
        "Model-based learning algorithms aim to find a model that best represents the underlying patterns in the data. They typically seek to:\n",
        "\n",
        "Fit the Data Well: The primary criterion is to find a model that accurately captures the relationships and patterns present in the training data.\n",
        "\n",
        "Generalize to New Data: Another crucial criterion is for the model to generalize well to unseen data, meaning it can make accurate predictions on new, previously unseen examples."
      ],
      "metadata": {
        "id": "WvAsg77Abddb"
      }
    },
    {
      "cell_type": "markdown",
      "source": [
        "14.Can you name four of the most important Machine Learning challenges?"
      ],
      "metadata": {
        "id": "W2SL3-jvblNA"
      }
    },
    {
      "cell_type": "markdown",
      "source": [
        "Data Quality and Quantity\n",
        "\n",
        "Overfitting and Underfitting\n",
        "\n",
        "Interpretability and Explainability\n",
        "\n",
        "Ethical and Fair AI"
      ],
      "metadata": {
        "id": "6zZXbDDTbp9G"
      }
    },
    {
      "cell_type": "markdown",
      "source": [],
      "metadata": {
        "id": "GG3OKkZdb4LJ"
      }
    },
    {
      "cell_type": "markdown",
      "source": [
        "15.What happens if the model performs well on the training data but fails to generalize the results\n",
        "to new situations? Can you think of three different options?"
      ],
      "metadata": {
        "id": "vPS4Ui9HcKQL"
      }
    },
    {
      "cell_type": "markdown",
      "source": [
        "16.What exactly is a test set, and why would you need one?\n",
        "\n",
        "\n",
        "\n"
      ],
      "metadata": {
        "id": "s3mGKl1rcR4q"
      }
    },
    {
      "cell_type": "markdown",
      "source": [
        "A test set is a separate portion of the dataset used to evaluate the performance of a machine learning model after it has been trained on the training data. It's a set of data that the model hasn't seen during training, allowing for an unbiased assessment of its performance on new, unseen examples."
      ],
      "metadata": {
        "id": "6ALQoLawcYB2"
      }
    },
    {
      "cell_type": "markdown",
      "source": [
        "17.What is a validation set&#39;s purpose?"
      ],
      "metadata": {
        "id": "a8-vCuzScdnF"
      }
    },
    {
      "cell_type": "markdown",
      "source": [
        "The validation set is used to fine-tune model settings (like hyperparameters) and select the best-performing model during training without using the test data."
      ],
      "metadata": {
        "id": "UQcU-qgPch7n"
      }
    },
    {
      "cell_type": "markdown",
      "source": [
        "18.What precisely is the train-dev kit, when will you need it, how do you put it to use?"
      ],
      "metadata": {
        "id": "Ha586hdrcuwp"
      }
    },
    {
      "cell_type": "markdown",
      "source": [
        "19.What could go wrong if you use the test set to tune hyperparameters?"
      ],
      "metadata": {
        "id": "kl8SCsD0czmT"
      }
    },
    {
      "cell_type": "markdown",
      "source": [
        "\n",
        "Using the test set for hyperparameter tuning can make the model overfit to the test data, giving an optimistic but misleading estimation of its performance on new, unseen data."
      ],
      "metadata": {
        "id": "e6V_FaO5c34n"
      }
    },
    {
      "cell_type": "code",
      "source": [],
      "metadata": {
        "id": "TH-dZbyHdFlF"
      },
      "execution_count": null,
      "outputs": []
    }
  ]
}